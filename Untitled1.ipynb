{
 "cells": [
  {
   "cell_type": "code",
   "execution_count": 1,
   "id": "2a2b41c0-c760-4137-818e-b470c77d5b18",
   "metadata": {},
   "outputs": [],
   "source": [
    "import mlflow\n",
    "import os"
   ]
  },
  {
   "cell_type": "code",
   "execution_count": 2,
   "id": "c6d492dd-b5a5-47c5-9fe5-1197e432f183",
   "metadata": {},
   "outputs": [],
   "source": [
    "from mlflow.tracking.request_header.abstract_request_header_provider import RequestHeaderProvider \n",
    "from mlflow.tracking.request_header.registry import _request_header_provider_registry "
   ]
  },
  {
   "cell_type": "code",
   "execution_count": 3,
   "id": "950f7834-7b3b-42df-af0e-1a35fc5f555a",
   "metadata": {},
   "outputs": [],
   "source": [
    "os.environ['DOMINO_API_KEY'] = '3066702f12109f6e2d64b061adb169fd08a23a70a4f1422f07cb147f4f67daee'\n",
    "os.environ['MLFLOW_TRACKING_URI'] = 'https://sup5101ab.support-team-sandbox.domino.tech/'"
   ]
  },
  {
   "cell_type": "code",
   "execution_count": 4,
   "id": "41e2aec7-4edf-4c53-9ab8-2c0c1f9d6488",
   "metadata": {},
   "outputs": [],
   "source": [
    "class DominoApiKeyRequestHeaderProvider(RequestHeaderProvider): \n",
    "    \"\"\" \n",
    "    Provides X-Domino-Api-Key request header. \n",
    "    \"\"\" \n",
    "\n",
    "    def __init__(self): \n",
    "        self._domino_api_key = os.environ['DOMINO_API_KEY']\n",
    "\n",
    "    def in_context(self): \n",
    "        return self._domino_api_key is not None \n",
    "\n",
    "    def request_headers(self): \n",
    "        request_headers = {} \n",
    "\n",
    "        if self._domino_api_key is not None: \n",
    "            request_headers[\"X-Domino-Api-Key\"] = self._domino_api_key \n",
    "\n",
    "        return request_headers "
   ]
  },
  {
   "cell_type": "code",
   "execution_count": 5,
   "id": "254f7561-ed7c-4736-bdd5-cf2f576b03c7",
   "metadata": {},
   "outputs": [],
   "source": [
    "_request_header_provider_registry.register(DominoApiKeyRequestHeaderProvider)"
   ]
  },
  {
   "cell_type": "code",
   "execution_count": 6,
   "id": "5b92c2ad-42cc-46e9-bb6c-61f4a558ef82",
   "metadata": {},
   "outputs": [],
   "source": [
    "# Set MLFlow tracking URI \n",
    "mlflow_tracking_uri = os.environ['MLFLOW_TRACKING_URI'] \n",
    "mlflow.set_tracking_uri(mlflow_tracking_uri) "
   ]
  },
  {
   "cell_type": "code",
   "execution_count": 7,
   "id": "13725cc4-416e-45f3-8fc9-94083727b12d",
   "metadata": {},
   "outputs": [
    {
     "name": "stdout",
     "output_type": "stream",
     "text": [
      "[<RegisteredModel: aliases={}, creation_timestamp=1721769535977, description='', last_updated_timestamp=1721769536139, latest_versions=[<ModelVersion: aliases=[], creation_timestamp=1721769536139, current_stage='None', description='', last_updated_timestamp=1721769536139, name='sklearn-model', run_id='27cedd8a55854dbab1b3c2c3aa675f91', run_link='', source='mlflow-artifacts:/mlflow/27cedd8a55854dbab1b3c2c3aa675f91/artifacts/sklearn-model', status='READY', status_message='', tags={'mlflow.domino.current_stage': 'Staging',\n",
      " 'mlflow.domino.dataset_info': '6671ddf168bcd763f3f622f3-6671ddf168bcd763f3f622f2,6671dfb768bcd763f3f622fa-6671dfb768bcd763f3f622f9',\n",
      " 'mlflow.domino.environment_id': '663e780500f7b224b2592223',\n",
      " 'mlflow.domino.environment_revision_id': '6675b89cc7dbcd4cd437436d',\n",
      " 'mlflow.domino.hardware_tier': 'small-k8s',\n",
      " 'mlflow.domino.project_id': '6671ddef68bcd763f3f622ef',\n",
      " 'mlflow.domino.project_name': 'quick-start',\n",
      " 'mlflow.domino.run_id': '66a01de6b7e13f1d0bda2d92',\n",
      " 'mlflow.domino.run_number': '37',\n",
      " 'mlflow.domino.user': 'abridges',\n",
      " 'mlflow.domino.user_id': '6671ddedf41d21748c3a9ad2',\n",
      " 'mlflow.source.type': 'NOTEBOOK',\n",
      " 'mlflow.user': 'abridges'}, user_id='', version='1'>], name='sklearn-model', tags={'mlflow.domino.dataset_info': '6671ddf168bcd763f3f622f3-6671ddf168bcd763f3f622f2,6671dfb768bcd763f3f622fa-6671dfb768bcd763f3f622f9',\n",
      " 'mlflow.domino.environment_id': '663e780500f7b224b2592223',\n",
      " 'mlflow.domino.environment_revision_id': '6675b89cc7dbcd4cd437436d',\n",
      " 'mlflow.domino.hardware_tier': 'small-k8s',\n",
      " 'mlflow.domino.project_id': '6671ddef68bcd763f3f622ef',\n",
      " 'mlflow.domino.project_name': 'quick-start',\n",
      " 'mlflow.domino.run_id': '66a01de6b7e13f1d0bda2d92',\n",
      " 'mlflow.domino.run_number': '37',\n",
      " 'mlflow.domino.scope.model/read': '1',\n",
      " 'mlflow.domino.user': 'abridges',\n",
      " 'mlflow.domino.user_id': '6671ddedf41d21748c3a9ad2',\n",
      " 'mlflow.source.type': 'NOTEBOOK',\n",
      " 'mlflow.user': 'abridges'}>]\n"
     ]
    }
   ],
   "source": [
    "client = mlflow.MlflowClient()\n",
    "data = client.search_registered_models()\n",
    "print(data)"
   ]
  },
  {
   "cell_type": "code",
   "execution_count": null,
   "id": "64c9c85f-0bf5-4134-b64a-0fb6f11999b4",
   "metadata": {},
   "outputs": [],
   "source": []
  }
 ],
 "metadata": {
  "kernelspec": {
   "display_name": "Python 3 (ipykernel)",
   "language": "python",
   "name": "python3"
  },
  "language_info": {
   "codemirror_mode": {
    "name": "ipython",
    "version": 3
   },
   "file_extension": ".py",
   "mimetype": "text/x-python",
   "name": "python",
   "nbconvert_exporter": "python",
   "pygments_lexer": "ipython3",
   "version": "3.9.18"
  }
 },
 "nbformat": 4,
 "nbformat_minor": 5
}
