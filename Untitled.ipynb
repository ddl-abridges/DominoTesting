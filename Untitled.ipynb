{
 "cells": [
  {
   "cell_type": "code",
   "execution_count": null,
   "id": "beae9f30-d4a6-4013-a681-13ecf839224b",
   "metadata": {},
   "outputs": [],
   "source": [
    "import mlflow"
   ]
  },
  {
   "cell_type": "code",
   "execution_count": 1,
   "id": "c943140b-d414-4fea-a78b-6ad5f0e2e3f7",
   "metadata": {},
   "outputs": [],
   "source": [
    "import os"
   ]
  },
  {
   "cell_type": "code",
   "execution_count": null,
   "id": "1be487b8-51d7-4237-b3fa-4c7d95837a4b",
   "metadata": {},
   "outputs": [],
   "source": [
    "os.environ['DOMINO_USER_API_KEY']='poo'"
   ]
  },
  {
   "cell_type": "code",
   "execution_count": 3,
   "id": "5feb0442-800f-4170-b525-ce8948a0a2b9",
   "metadata": {},
   "outputs": [
    {
     "name": "stdout",
     "output_type": "stream",
     "text": [
      "3066702f12109f6e2d64b061adb169fd08a23a70a4f1422f07cb147f4f67daee\n"
     ]
    }
   ],
   "source": [
    "print(os.environ['DOMINO_USER_API_KEY'])"
   ]
  },
  {
   "cell_type": "code",
   "execution_count": null,
   "id": "5cc1fb14-ef6b-42b9-84f9-8f2c8206680a",
   "metadata": {},
   "outputs": [],
   "source": [
    "client = mlflow.MlflowClient()"
   ]
  },
  {
   "cell_type": "raw",
   "id": "b89cd4ef-8b21-4d49-a832-e85d2a38c182",
   "metadata": {},
   "source": [
    "print(client)"
   ]
  },
  {
   "cell_type": "code",
   "execution_count": null,
   "id": "41719ee7-1f16-470d-a595-386acb00cee4",
   "metadata": {},
   "outputs": [],
   "source": [
    "print(os.environ['MLFLOW_TRACKING_TOKEN'])"
   ]
  },
  {
   "cell_type": "code",
   "execution_count": 4,
   "id": "6b8bc0dd-9377-4d05-bf53-e113eccf4773",
   "metadata": {},
   "outputs": [
    {
     "name": "stdout",
     "output_type": "stream",
     "text": [
      "http://127.0.0.1:8765\n"
     ]
    }
   ],
   "source": [
    "print(os.getenv(\"MLFLOW_TRACKING_URI\"))"
   ]
  },
  {
   "cell_type": "code",
   "execution_count": null,
   "id": "6e86b51c-022d-4679-8f30-b1bafcca400a",
   "metadata": {},
   "outputs": [],
   "source": []
  }
 ],
 "metadata": {
  "kernelspec": {
   "display_name": "Python 3 (ipykernel)",
   "language": "python",
   "name": "python3"
  },
  "language_info": {
   "codemirror_mode": {
    "name": "ipython",
    "version": 3
   },
   "file_extension": ".py",
   "mimetype": "text/x-python",
   "name": "python",
   "nbconvert_exporter": "python",
   "pygments_lexer": "ipython3",
   "version": "3.9.18"
  }
 },
 "nbformat": 4,
 "nbformat_minor": 5
}
