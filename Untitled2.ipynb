{
 "cells": [
  {
   "cell_type": "code",
   "execution_count": 1,
   "id": "febdd854-3773-481d-b047-23127921d4bb",
   "metadata": {},
   "outputs": [],
   "source": [
    "import requests"
   ]
  },
  {
   "cell_type": "code",
   "execution_count": 2,
   "id": "f8528a28-c0f7-4359-a2a9-ee4e9a2aecb3",
   "metadata": {},
   "outputs": [],
   "source": [
    "response = requests.get(\"\")"
   ]
  },
  {
   "cell_type": "code",
   "execution_count": 3,
   "id": "90ebcce8-cf27-4d5b-ae6b-30da6030ce7a",
   "metadata": {},
   "outputs": [
    {
     "name": "stdout",
     "output_type": "stream",
     "text": [
      "{\"requestId\":\"de47f96f-c390-4162-b89a-1241bd197647\",\"errors\":[\"domino.authz.NotAuthorizedException: Not authorized: No credentials found\"]}\n"
     ]
    }
   ],
   "source": [
    "print(response.text)"
   ]
  },
  {
   "cell_type": "code",
   "execution_count": 4,
   "id": "5761093e-ef2e-43e2-9ba9-cbf6189b615a",
   "metadata": {},
   "outputs": [
    {
     "name": "stdout",
     "output_type": "stream",
     "text": [
      "{\"items\":[{\"name\":\"sklearn-model\",\"description\":\"\",\"latestVersion\":1,\"project\":{\"id\":\"6671ddef68bcd763f3f622ef\",\"name\":\"quick-start\",\"ownerUsername\":\"abridges\",\"isGitBasedProject\":false},\"tags\":{\"mlflow.domino.scope.model/read\":\"1\",\"mlflow.domino.user_id\":\"6671ddedf41d21748c3a9ad2\",\"mlflow.domino.run_id\":\"66a01de6b7e13f1d0bda2d92\",\"mlflow.domino.user\":\"abridges\",\"mlflow.domino.dataset_info\":\"6671ddf168bcd763f3f622f3-6671ddf168bcd763f3f622f2,6671dfb768bcd763f3f622fa-6671dfb768bcd763f3f622f9\",\"mlflow.domino.project_name\":\"quick-start\",\"mlflow.domino.environment_id\":\"663e780500f7b224b2592223\",\"mlflow.source.type\":\"NOTEBOOK\",\"mlflow.user\":\"abridges\",\"mlflow.domino.run_number\":\"37\",\"mlflow.domino.environment_revision_id\":\"6675b89cc7dbcd4cd437436d\",\"mlflow.domino.project_id\":\"6671ddef68bcd763f3f622ef\",\"mlflow.domino.hardware_tier\":\"small-k8s\"},\"ownerUsername\":\"abridges\",\"discoverable\":true,\"createdAt\":\"2024-07-23T21:18:55.977Z\",\"updatedAt\":\"2024-07-23T21:18:56.139Z\",\"requestingUserAccess\":{\"canEditModel\":true,\"canEditProjectAssets\":true,\"canViewExperimentRuns\":true,\"canViewModelApis\":true,\"canViewProject\":true,\"canViewProjectFiles\":true}}],\"metadata\":{\"requestId\":\"71b67f10-ce1d-4fe9-aec2-2630bdc2eb8c\",\"notices\":[]}}\n"
     ]
    }
   ],
   "source": [
    "url = \"https://sup5101ab.support-team-sandbox.domino.tech/api/registeredmodels/v1\"\n",
    "\n",
    "payload = {}\n",
    "headers = {\n",
    "  'X-Domino-Api-Key': '3066702f12109f6e2d64b061adb169fd08a23a70a4f1422f07cb147f4f67daee'\n",
    "}\n",
    "\n",
    "response = requests.request(\"GET\", url, headers=headers, data=payload)\n",
    "\n",
    "print(response.text)"
   ]
  },
  {
   "cell_type": "code",
   "execution_count": null,
   "id": "2e2c64c3-bade-44b1-86b6-f3b0633f7731",
   "metadata": {},
   "outputs": [],
   "source": []
  }
 ],
 "metadata": {
  "kernelspec": {
   "display_name": "Python 3 (ipykernel)",
   "language": "python",
   "name": "python3"
  },
  "language_info": {
   "codemirror_mode": {
    "name": "ipython",
    "version": 3
   },
   "file_extension": ".py",
   "mimetype": "text/x-python",
   "name": "python",
   "nbconvert_exporter": "python",
   "pygments_lexer": "ipython3",
   "version": "3.9.18"
  }
 },
 "nbformat": 4,
 "nbformat_minor": 5
}
